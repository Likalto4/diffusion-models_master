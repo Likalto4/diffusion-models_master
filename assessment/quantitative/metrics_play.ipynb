{
 "cells": [
  {
   "cell_type": "code",
   "execution_count": 1,
   "metadata": {},
   "outputs": [],
   "source": [
    "from pathlib import Path\n",
    "import os, sys\n",
    "repo_path= Path.cwd().resolve()\n",
    "while '.gitignore' not in os.listdir(repo_path): # while not in the root of the repo\n",
    "    repo_path = repo_path.parent #go up one level\n",
    "sys.path.insert(0,str(repo_path)) if str(repo_path) not in sys.path else None\n",
    "exp_path = Path.cwd().resolve() # experiment path\n",
    "# visible GPUs\n",
    "os.environ[\"CUDA_DEVICE_ORDER\"]=\"PCI_BUS_ID\"\n",
    "os.environ[\"CUDA_VISIBLE_DEVICES\"]=\"1\""
   ]
  },
  {
   "cell_type": "code",
   "execution_count": 2,
   "metadata": {},
   "outputs": [],
   "source": [
    "from torchmetrics import MultiScaleStructuralSimilarityIndexMeasure\n",
    "from diffusers import StableDiffusionPipeline, DPMSolverMultistepScheduler\n",
    "import torch\n",
    "import numpy as np\n",
    "from matplotlib import pyplot as plt\n",
    "import cv2 as cv"
   ]
  },
  {
   "attachments": {},
   "cell_type": "markdown",
   "metadata": {},
   "source": [
    "There are 2 metrics: MS-SSIM (diversity) and FID (fidelity)"
   ]
  },
  {
   "attachments": {},
   "cell_type": "markdown",
   "metadata": {},
   "source": [
    "# MS-SSIM"
   ]
  },
  {
   "attachments": {},
   "cell_type": "markdown",
   "metadata": {},
   "source": [
    "We will compute this metric for each model (vendor) and for each prompt\n",
    "- Each prompt will have\n",
    "    - 4 synthetic pairs\n",
    "    - 4 real pairs"
   ]
  },
  {
   "cell_type": "code",
   "execution_count": 68,
   "metadata": {},
   "outputs": [
    {
     "name": "stderr",
     "output_type": "stream",
     "text": [
      "You have disabled the safety checker for <class 'diffusers.pipelines.stable_diffusion.pipeline_stable_diffusion.StableDiffusionPipeline'> by passing `safety_checker=None`. Ensure that you abide to the conditions of the Stable Diffusion license and do not expose unfiltered results in services or applications open to the public. Both the diffusers team and Hugging Face strongly recommend to keep the safety filter enabled in all public facing circumstances, disabling it only for use-cases that involve analyzing network behavior or auditing its results. For more information, please have a look at https://github.com/huggingface/diffusers/pull/254 .\n"
     ]
    },
    {
     "data": {
      "application/vnd.jupyter.widget-view+json": {
       "model_id": "fc287e8fc3ac4d5d8928718321aa26df",
       "version_major": 2,
       "version_minor": 0
      },
      "text/plain": [
       "  0%|          | 0/50 [00:00<?, ?it/s]"
      ]
     },
     "metadata": {},
     "output_type": "display_data"
    },
    {
     "data": {
      "application/vnd.jupyter.widget-view+json": {
       "model_id": "08a5cb99dbd14621b2dd21b95fb536ae",
       "version_major": 2,
       "version_minor": 0
      },
      "text/plain": [
       "  0%|          | 0/50 [00:00<?, ?it/s]"
      ]
     },
     "metadata": {},
     "output_type": "display_data"
    },
    {
     "data": {
      "application/vnd.jupyter.widget-view+json": {
       "model_id": "eefad4da957542ceaf8865e739e1f3a4",
       "version_major": 2,
       "version_minor": 0
      },
      "text/plain": [
       "  0%|          | 0/50 [00:00<?, ?it/s]"
      ]
     },
     "metadata": {},
     "output_type": "display_data"
    },
    {
     "data": {
      "application/vnd.jupyter.widget-view+json": {
       "model_id": "bedafab865074c57b5645e759ab27402",
       "version_major": 2,
       "version_minor": 0
      },
      "text/plain": [
       "  0%|          | 0/50 [00:00<?, ?it/s]"
      ]
     },
     "metadata": {},
     "output_type": "display_data"
    },
    {
     "data": {
      "text/plain": [
       "(0.2118308525896737, 0.14459827573969733)"
      ]
     },
     "execution_count": 68,
     "metadata": {},
     "output_type": "execute_result"
    }
   ],
   "source": [
    "# load model\n",
    "output_dir= repo_path  /'results/mammo40k_size-prompt_5k'\n",
    "pipe = StableDiffusionPipeline.from_pretrained(output_dir, safety_checker=None, torch_dtype=torch.float16).to(\"cuda\")\n",
    "generator = torch.Generator(device='cuda')\n",
    "pipe.scheduler = DPMSolverMultistepScheduler.from_config(pipe.scheduler.config)\n",
    "pipe.enable_xformers_memory_efficient_attention()\n",
    "\n",
    "# DiffusionHP\n",
    "guidance_scale = 4\n",
    "num_inference_steps = 50\n",
    "prompt = 'mammogram, MLO view, small size'\n",
    "seed = 1337\n",
    "generator.manual_seed(seed)\n",
    "negative_prompt = \"\"\n",
    "num_samples = 2\n",
    "size = 512\n",
    "\n",
    "# create ssim_vector\n",
    "num_tests = 4\n",
    "ssim_values = np.zeros(num_tests)\n",
    "\n",
    "for i in range(num_tests):\n",
    "    \n",
    "    with torch.autocast(\"cuda\"), torch.inference_mode():\n",
    "        image = pipe(\n",
    "            prompt=prompt,\n",
    "            negative_prompt=negative_prompt,\n",
    "            num_images_per_prompt=num_samples,\n",
    "            num_inference_steps=num_inference_steps,\n",
    "            guidance_scale=guidance_scale,\n",
    "            height=size,\n",
    "            width=size,\n",
    "            generator=None,\n",
    "            output_type='pil'\n",
    "        ).images\n",
    "\n",
    "    # turn pil images to torch tensors\n",
    "    t_images = torch.stack([torch.tensor(np.asarray(img, dtype=float)).permute(2,0,1) for img in image])\n",
    "    # add additional channel to t_image\n",
    "    t_images = t_images.unsqueeze(1)\n",
    "    # compute MS-SSIM\n",
    "    ms_ssim = MultiScaleStructuralSimilarityIndexMeasure(kernel_size=11, reduction='none')\n",
    "    ssim_values[i] = ms_ssim(t_images[0], t_images[1])\n",
    "    # print(ms_value)\n",
    "    # # show images\n",
    "    # fig, ax = plt.subplots(1,2)\n",
    "    # ax[0].imshow(t_images[0,0,0], cmap='gray')\n",
    "    # ax[1].imshow(t_images[1,0,0], cmap='gray')\n",
    "\n",
    "ssim_values.mean(), ssim_values.std()"
   ]
  },
  {
   "cell_type": "code",
   "execution_count": 67,
   "metadata": {},
   "outputs": [
    {
     "data": {
      "text/plain": [
       "(0.5231541991499744, 0.029559441454340647)"
      ]
     },
     "execution_count": 67,
     "metadata": {},
     "output_type": "execute_result"
    }
   ],
   "source": [
    "ssim_values.mean(), ssim_values.std()"
   ]
  }
 ],
 "metadata": {
  "kernelspec": {
   "display_name": "dreambooth",
   "language": "python",
   "name": "python3"
  },
  "language_info": {
   "codemirror_mode": {
    "name": "ipython",
    "version": 3
   },
   "file_extension": ".py",
   "mimetype": "text/x-python",
   "name": "python",
   "nbconvert_exporter": "python",
   "pygments_lexer": "ipython3",
   "version": "3.9.16"
  },
  "orig_nbformat": 4
 },
 "nbformat": 4,
 "nbformat_minor": 2
}
