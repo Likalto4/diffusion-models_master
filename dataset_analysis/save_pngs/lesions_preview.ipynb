{
 "cells": [
  {
   "cell_type": "code",
   "execution_count": 1,
   "metadata": {},
   "outputs": [],
   "source": [
    "from pathlib import Path\n",
    "import os, sys\n",
    "repo_path= Path.cwd().resolve()\n",
    "while '.gitignore' not in os.listdir(repo_path): # while not in the root of the repo\n",
    "    repo_path = repo_path.parent #go up one level\n",
    "sys.path.insert(0,str(repo_path)) if str(repo_path) not in sys.path else None"
   ]
  },
  {
   "cell_type": "code",
   "execution_count": 13,
   "metadata": {},
   "outputs": [],
   "source": [
    "import pandas as pd\n",
    "import numpy as np\n",
    "from PIL import Image"
   ]
  },
  {
   "attachments": {},
   "cell_type": "markdown",
   "metadata": {},
   "source": [
    "The idea of this notebook is to create a folder with lesions images, ready to be used for Dreambooth generation.\n",
    "\n",
    "- Question 1. Where is the infromation containing the bounding box of the images?\n",
    "    - Answer: In the metadata file, the breast40k_RGB"
   ]
  },
  {
   "cell_type": "code",
   "execution_count": 15,
   "metadata": {},
   "outputs": [
    {
     "data": {
      "text/plain": [
       "(512, 512, 3)"
      ]
     },
     "execution_count": 15,
     "metadata": {},
     "output_type": "execute_result"
    }
   ],
   "source": [
    "folder_name = 'breast40k_RGB'\n",
    "\n",
    "# paths\n",
    "metadata_path = repo_path / 'data/metadata'/f'{folder_name}.csv'\n",
    "imageFolder_path = repo_path / 'data/images'/folder_name\n",
    "# Read metadata file\n",
    "metadata = pd.read_csv(metadata_path)\n",
    "# filter only images with marks\n",
    "metadata = metadata[metadata['marks'] == True]\n",
    "metadata = metadata.reset_index(drop=True)\n",
    "\n",
    "# get the first row\n",
    "row = metadata.iloc[0]\n",
    "# get the path to the image\n",
    "image_path = imageFolder_path / str(row['image_id'] + '.png')\n",
    "# read image using PIL\n",
    "image = Image.open(image_path)\n",
    "image = np.array(image)\n",
    "image.shape"
   ]
  }
 ],
 "metadata": {
  "kernelspec": {
   "display_name": "dreambooth",
   "language": "python",
   "name": "python3"
  },
  "language_info": {
   "codemirror_mode": {
    "name": "ipython",
    "version": 3
   },
   "file_extension": ".py",
   "mimetype": "text/x-python",
   "name": "python",
   "nbconvert_exporter": "python",
   "pygments_lexer": "ipython3",
   "version": "3.9.16"
  },
  "orig_nbformat": 4
 },
 "nbformat": 4,
 "nbformat_minor": 2
}
