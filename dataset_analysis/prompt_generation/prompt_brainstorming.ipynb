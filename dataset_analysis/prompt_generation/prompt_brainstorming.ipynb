{
 "cells": [
  {
   "cell_type": "code",
   "execution_count": 1,
   "metadata": {},
   "outputs": [],
   "source": [
    "#Add repo path to the system path\n",
    "from pathlib import Path\n",
    "import os, sys\n",
    "repo_path= Path.cwd().resolve()\n",
    "while '.gitignore' not in os.listdir(repo_path): # while not in the root of the repo\n",
    "    repo_path = repo_path.parent #go up one level\n",
    "sys.path.insert(0,str(repo_path)) if str(repo_path) not in sys.path else None\n",
    "\n",
    "import csv\n",
    "import pandas as pd\n",
    "import numpy as np\n",
    "import torch\n",
    "from torch.utils.data import Dataset\n",
    "from datasets import load_dataset\n",
    "import random\n",
    "from transformers import CLIPTextModel, CLIPTokenizer\n",
    "import argparse\n",
    "from torchvision import transforms"
   ]
  },
  {
   "attachments": {},
   "cell_type": "markdown",
   "metadata": {},
   "source": [
    "# Vanilla prompt"
   ]
  },
  {
   "attachments": {},
   "cell_type": "markdown",
   "metadata": {},
   "source": [
    "We want to extract specific information from the general csv metadata file. This can be done by creating a function taht takes the folder of interest as input, creates a csv fuile with the contents of the fgolder (filenames) and then creates a new metadata csv using just the names of the filenames csv and lookiing for the ids in the general metadat csv."
   ]
  },
  {
   "cell_type": "code",
   "execution_count": 2,
   "metadata": {},
   "outputs": [],
   "source": [
    "def create_folder_csv(folder_dir:Path, image_extension: str):\n",
    "    \"\"\"Creates a csv file with the name of the files in the folder with specific extension.\n",
    "\n",
    "    Args:\n",
    "        folder_dir (Path): images folder\n",
    "        image_extension (str): png, jpg, etc.\n",
    "    \"\"\"\n",
    "    # get folder name from directory\n",
    "    folder_name = folder_dir.name\n",
    "    # check if the csv file with the filenames already exists\n",
    "    csv_path = folder_dir.parent.parent / 'filenames' / f'{folder_name}.csv'\n",
    "    if not csv_path.exists(): # if not, create it\n",
    "        with open(csv_path, mode='w', newline='') as file:\n",
    "            writer = csv.writer(file)\n",
    "            for filename in os.listdir(folder_dir):\n",
    "                if filename.endswith(f\".{image_extension}\"):\n",
    "                    writer.writerow([filename])\n",
    "    return csv_path\n",
    "\n",
    "def subset_csv(files_folder:Path, reference_folder:Path):\n",
    "    \"\"\"creates subset coming from the ids of the files in the files folder with reference to the referencer forlder\n",
    "\n",
    "    Args:\n",
    "        files_folder (Path): files folder\n",
    "        reference_folder (Path): reference folder\n",
    "    \"\"\"\n",
    "    csv_path = create_folder_csv(files_folder, 'png') # create name csv if it does not exist\n",
    "    # open csv file\n",
    "    name_csv = pd.read_csv(csv_path, header=None)\n",
    "    # set column name as filename\n",
    "    name_csv.columns = ['filename']\n",
    "    # remove extension in all filenames in name_csv (for comperison with general metadata)\n",
    "    name_csv['filename'] = name_csv['filename'].str.replace('.png', '', regex=True)\n",
    "    # open general metadata csv file\n",
    "    general_csv = pd.read_csv(reference_folder, header=0)\n",
    "    # create new csv only with the filenames in the folder\n",
    "    new_csv = general_csv[general_csv['image_id'].isin(name_csv['filename'])]\n",
    "    # save new csv\n",
    "    save_path = files_folder.parent.parent / 'metadata' / f'{files_folder.name}.csv'\n",
    "    new_csv.to_csv(save_path, index=False)\n",
    "    \n",
    "    return save_path"
   ]
  },
  {
   "cell_type": "code",
   "execution_count": 3,
   "metadata": {},
   "outputs": [],
   "source": [
    "# create subset csv\n",
    "folder_name = 'breast40k_RGB'\n",
    "files_folder = repo_path / 'data/images' / f'{folder_name}'\n",
    "reference_folder = repo_path / 'dataset_analysis/metadata/metadata_Hologic.csv'\n",
    "metadata_path = subset_csv(files_folder, reference_folder)"
   ]
  },
  {
   "cell_type": "code",
   "execution_count": 102,
   "metadata": {},
   "outputs": [],
   "source": [
    "# read csv file\n",
    "metadata = pd.read_csv(metadata_path, header=0)\n",
    "# get df with only two columns\n",
    "metadata = metadata[['image_id', 'view_position']]\n",
    "# add exension to the end of the image_id\n",
    "metadata['image_id'] = metadata['image_id'].astype(str) + '.png'\n",
    "# change image_id to file_name\n",
    "metadata = metadata.rename(columns={'image_id': 'file_name'})\n",
    "# prompt column must contain 'mammogram' plus the view position\n",
    "metadata['prompt'] = 'mammogram, ' + metadata['view_position'] + ' view'\n",
    "# remove view_position column\n",
    "metadata = metadata.drop(columns=['view_position'])\n",
    "# transform to json\n",
    "metadata = metadata.to_json(orient='records', lines=True)\n",
    "# use same folder as files folder\n",
    "json_path = files_folder / 'metadata.jsonl'\n",
    "# save json\n",
    "with open(json_path, 'w') as f:\n",
    "    f.write(metadata)"
   ]
  },
  {
   "attachments": {},
   "cell_type": "markdown",
   "metadata": {},
   "source": [
    "# Analyze stable diffusion dataset"
   ]
  },
  {
   "cell_type": "code",
   "execution_count": 112,
   "metadata": {},
   "outputs": [],
   "source": [
    "args = {\n",
    "    'pretrained_model_name_or_path': \"runwayml/stable-diffusion-v1-5\",\n",
    "    'revision': 'fp16',\n",
    "    'resolution': 512,\n",
    "    'train_batch_size': 1,\n",
    "    'dataloader_num_workers': 0,\n",
    "}\n",
    "# transform in namespace\n",
    "args = argparse.Namespace(**args)\n",
    "\n",
    "tokenizer = CLIPTokenizer.from_pretrained(\n",
    "        args.pretrained_model_name_or_path, subfolder=\"tokenizer\", revision=args.revision\n",
    "    )"
   ]
  },
  {
   "attachments": {},
   "cell_type": "markdown",
   "metadata": {},
   "source": [
    "Here you are getting the data, rwa if you want to call it like that.\n",
    "- Image: original input (RGB, grayscale, etc.) with no preprocessing\n",
    "- Prompt: pure string text before tokenization."
   ]
  },
  {
   "cell_type": "code",
   "execution_count": 107,
   "metadata": {},
   "outputs": [
    {
     "data": {
      "application/vnd.jupyter.widget-view+json": {
       "model_id": "203384a5658d4ff5bf8b25f782154131",
       "version_major": 2,
       "version_minor": 0
      },
      "text/plain": [
       "Resolving data files:   0%|          | 0/4060 [00:00<?, ?it/s]"
      ]
     },
     "metadata": {},
     "output_type": "display_data"
    },
    {
     "name": "stderr",
     "output_type": "stream",
     "text": [
      "Using custom data configuration default-586a7e4a7bbb73c1\n",
      "Found cached dataset imagefolder (/home/ricardo/.cache/huggingface/datasets/imagefolder/default-586a7e4a7bbb73c1/0.0.0/37fbb85cc714a338bea574ac6c7d0b5be5aff46c1862c1989b20e0771199e93f)\n"
     ]
    },
    {
     "data": {
      "application/vnd.jupyter.widget-view+json": {
       "model_id": "89fcc6cda2fd4dc6b2fc6423b26a2fb0",
       "version_major": 2,
       "version_minor": 0
      },
      "text/plain": [
       "  0%|          | 0/1 [00:00<?, ?it/s]"
      ]
     },
     "metadata": {},
     "output_type": "display_data"
    }
   ],
   "source": [
    "# load dataset, with metadata inside files folder\n",
    "data_files = {}\n",
    "data_files[\"train\"] = os.path.join(files_folder, \"**\")\n",
    "dataset = load_dataset(\n",
    "    \"imagefolder\",\n",
    "    data_files=data_files,\n",
    ")\n",
    "column_names = dataset[\"train\"].column_names\n",
    "image_column = column_names[0]\n",
    "caption_column = column_names[1]"
   ]
  },
  {
   "attachments": {},
   "cell_type": "markdown",
   "metadata": {},
   "source": [
    "Here both raw data are transformed ot be processed by the model\n",
    "- Image: resized, croped and normalized to be in diffusion ranges (-1,1)\n",
    "- Prompt: tokenized and truncated to have max length"
   ]
  },
  {
   "cell_type": "code",
   "execution_count": 108,
   "metadata": {},
   "outputs": [],
   "source": [
    "def tokenize_captions(examples, is_train=True):\n",
    "    \"\"\"from the example dictionary, it takes the caption from the caption column and returns the tokenized input ids\n",
    "\n",
    "    Args:\n",
    "        examples (dict): example dict with image and caption\n",
    "        is_train (bool, optional): for multiple caption, randomize it. Defaults to True.\n",
    "\n",
    "    Raises:\n",
    "        ValueError: wring prompt type\n",
    "\n",
    "    Returns:\n",
    "        tensor: tokenized input ids, max length per prompt 77 tokens\n",
    "    \"\"\"\n",
    "    captions = []\n",
    "    for caption in examples[caption_column]:\n",
    "        if isinstance(caption, str):\n",
    "            captions.append(caption) # append indiivdual \n",
    "        elif isinstance(caption, (list, np.ndarray)):\n",
    "            # take a random caption if there are multiple\n",
    "            captions.append(random.choice(caption) if is_train else caption[0])\n",
    "        else:\n",
    "            raise ValueError(\n",
    "                f\"Caption column `{caption_column}` should contain either strings or lists of strings.\"\n",
    "            )\n",
    "    inputs = tokenizer(\n",
    "        captions, max_length=tokenizer.model_max_length, padding=\"max_length\", truncation=True, return_tensors=\"pt\"\n",
    "    )\n",
    "    return inputs.input_ids\n",
    "\n",
    "# Preprocessing the datasets.\n",
    "train_transforms = transforms.Compose(\n",
    "    [\n",
    "        transforms.Resize(args.resolution, interpolation=transforms.InterpolationMode.BILINEAR),\n",
    "        transforms.CenterCrop(args.resolution),\n",
    "        transforms.ToTensor(),\n",
    "        transforms.Normalize([0.5], [0.5]),\n",
    "    ]\n",
    ")\n",
    "# preprocessing function to give to the dataloader\n",
    "def preprocess_train(examples):\n",
    "    \"\"\"preprocess examples to store the pixel values and the tokenized input ids\n",
    "\n",
    "    Args:\n",
    "        examples (dict): example dictionary with image and caption\n",
    "\n",
    "    Returns:\n",
    "        dict: trnsformed images and tokenized input ids\n",
    "    \"\"\"\n",
    "    images = [image.convert(\"RGB\") for image in examples[image_column]]\n",
    "    examples[\"pixel_values\"] = [train_transforms(image) for image in images]\n",
    "    examples[\"input_ids\"] = tokenize_captions(examples)\n",
    "    return examples\n",
    "\n",
    "# Set the training transforms\n",
    "train_dataset = dataset[\"train\"].with_transform(preprocess_train)"
   ]
  },
  {
   "attachments": {},
   "cell_type": "markdown",
   "metadata": {},
   "source": [
    "Finally define collator and send everything to dataloader"
   ]
  },
  {
   "cell_type": "code",
   "execution_count": 115,
   "metadata": {},
   "outputs": [],
   "source": [
    "def collate_fn(examples):\n",
    "    \"\"\"basically stacks the batches into a single batch\n",
    "\n",
    "    Args:\n",
    "        examples (dict): example dictionary with image and caption\n",
    "\n",
    "    Returns:\n",
    "        dict: final dataloader batch\n",
    "    \"\"\"\n",
    "    pixel_values = torch.stack([example[\"pixel_values\"] for example in examples])\n",
    "    pixel_values = pixel_values.to(memory_format=torch.contiguous_format).float()\n",
    "    input_ids = torch.stack([example[\"input_ids\"] for example in examples])\n",
    "    return {\"pixel_values\": pixel_values, \"input_ids\": input_ids}\n",
    "\n",
    "# DataLoaders creation:\n",
    "train_dataloader = torch.utils.data.DataLoader(\n",
    "    train_dataset,\n",
    "    shuffle=True,\n",
    "    collate_fn=collate_fn,\n",
    "    batch_size=args.train_batch_size,\n",
    "    num_workers=args.dataloader_num_workers,\n",
    ")\n",
    "batch = next(iter(train_dataloader))"
   ]
  },
  {
   "attachments": {},
   "cell_type": "markdown",
   "metadata": {},
   "source": [
    "# Analyze dreambooth dataset"
   ]
  },
  {
   "cell_type": "code",
   "execution_count": null,
   "metadata": {},
   "outputs": [],
   "source": [
    "class DreamBoothDataset(Dataset):\n",
    "    \"\"\"\n",
    "    A dataset to prepare the instance and class images with the prompts for fine-tuning the model.\n",
    "    It pre-processes the images and the tokenizes prompts.\n",
    "    \"\"\"\n",
    "\n",
    "    def __init__(\n",
    "        self,\n",
    "        instance_data_root,\n",
    "        instance_prompt,\n",
    "        tokenizer,\n",
    "        class_data_root=None,\n",
    "        class_prompt=None,\n",
    "        class_num=None,\n",
    "        size=512,\n",
    "        center_crop=False,\n",
    "    ):\n",
    "        self.size = size\n",
    "        self.center_crop = center_crop\n",
    "        self.tokenizer = tokenizer\n",
    "\n",
    "        self.instance_data_root = Path(instance_data_root)\n",
    "        if not self.instance_data_root.exists():\n",
    "            raise ValueError(f\"Instance {self.instance_data_root} images root doesn't exists.\")\n",
    "\n",
    "        self.instance_images_path = list(Path(instance_data_root).iterdir()) # get all the images paths in the folder\n",
    "        self.num_instance_images = len(self.instance_images_path) # number of images in the folder\n",
    "        self.instance_prompt = instance_prompt # prompt for the instance images\n",
    "        self._length = self.num_instance_images # length of the dataset\n",
    "\n",
    "        if class_data_root is not None: # if there are prior images\n",
    "            self.class_data_root = Path(class_data_root)\n",
    "            self.class_data_root.mkdir(parents=True, exist_ok=True) # create the folder if it doesn't exist\n",
    "            self.class_images_path = list(self.class_data_root.iterdir()) # get paths of all the class images\n",
    "            if class_num is not None: # class number. This can vary if there are more images in the folder and we only want to use a subset of them\n",
    "                self.num_class_images = min(len(self.class_images_path), class_num)\n",
    "            else:\n",
    "                self.num_class_images = len(self.class_images_path)\n",
    "            self._length = max(self.num_class_images, self.num_instance_images) # length of the dataset will be the max of the number of instance images and the number of class images\n",
    "            self.class_prompt = class_prompt\n",
    "        else:\n",
    "            self.class_data_root = None\n",
    "\n",
    "        self.image_transforms = transforms.Compose( # classic image transforms for diffusion models\n",
    "            [ # resize images to squares with ration preservation, then normalize -1 to 1\n",
    "                transforms.Resize(size, interpolation=transforms.InterpolationMode.BILINEAR),\n",
    "                transforms.CenterCrop(size) if center_crop else transforms.RandomCrop(size),\n",
    "                transforms.ToTensor(),\n",
    "                transforms.Normalize([0.5], [0.5]),\n",
    "            ]\n",
    "        )\n",
    "\n",
    "    def __len__(self):\n",
    "        return self._length # length of the dataset is the max of the number of instance images and the number of class images\n",
    "\n",
    "    def __getitem__(self, index):\n",
    "        \"\"\"returns example dictionary\n",
    "\n",
    "        Args:\n",
    "            index (int): index of the example\n",
    "\n",
    "        Returns:\n",
    "            dict: example dictionary with keys \"instance_images\", \"instance_prompt_ids\", \"class_images\", \"class_prompt_ids\"\n",
    "        \"\"\"\n",
    "        example = {}\n",
    "        instance_image = Image.open(self.instance_images_path[index % self.num_instance_images]) # instance images as module in case there are more class images than instance images\n",
    "        if not instance_image.mode == \"RGB\": # convert to RGB if not already\n",
    "            instance_image = instance_image.convert(\"RGB\")\n",
    "        example[\"instance_images\"] = self.image_transforms(instance_image) # instance images\n",
    "        example[\"instance_prompt_ids\"] = self.tokenizer( # tokenize the prompt\n",
    "            self.instance_prompt,\n",
    "            truncation=True, # max 77 tokens\n",
    "            padding=\"max_length\", # pad to max length\n",
    "            max_length=self.tokenizer.model_max_length,\n",
    "            return_tensors=\"pt\",\n",
    "        ).input_ids\n",
    "\n",
    "        if self.class_data_root: # if there are class images\n",
    "            class_image = Image.open(self.class_images_path[index % self.num_class_images]) # same idea as above\n",
    "            if not class_image.mode == \"RGB\":\n",
    "                class_image = class_image.convert(\"RGB\")\n",
    "            example[\"class_images\"] = self.image_transforms(class_image)\n",
    "            example[\"class_prompt_ids\"] = self.tokenizer(\n",
    "                self.class_prompt,\n",
    "                truncation=True,\n",
    "                padding=\"max_length\",\n",
    "                max_length=self.tokenizer.model_max_length,\n",
    "                return_tensors=\"pt\",\n",
    "            ).input_ids\n",
    "\n",
    "        return example"
   ]
  }
 ],
 "metadata": {
  "kernelspec": {
   "display_name": "iceberg",
   "language": "python",
   "name": "python3"
  },
  "language_info": {
   "codemirror_mode": {
    "name": "ipython",
    "version": 3
   },
   "file_extension": ".py",
   "mimetype": "text/x-python",
   "name": "python",
   "nbconvert_exporter": "python",
   "pygments_lexer": "ipython3",
   "version": "3.8.16"
  },
  "orig_nbformat": 4
 },
 "nbformat": 4,
 "nbformat_minor": 2
}
