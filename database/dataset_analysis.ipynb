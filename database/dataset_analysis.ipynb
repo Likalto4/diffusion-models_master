{
 "cells": [
  {
   "cell_type": "code",
   "execution_count": 1,
   "metadata": {},
   "outputs": [],
   "source": [
    "#Add repo path to the system path\n",
    "from pathlib import Path\n",
    "import os, sys\n",
    "repo_path= Path.cwd().resolve()\n",
    "while '.gitignore' not in os.listdir(repo_path): # while not in the root of the repo\n",
    "    repo_path = repo_path.parent #go up one level\n",
    "sys.path.insert(0,str(repo_path)) if str(repo_path) not in sys.path else None\n",
    "\n",
    "import omidb\n",
    "from pathlib import Path\n",
    "from tqdm import tqdm\n",
    "import numpy as np"
   ]
  },
  {
   "attachments": {},
   "cell_type": "markdown",
   "metadata": {},
   "source": [
    "# Dataset analysis\n",
    "\n",
    "     The dataset folder is being mounted to padel from mia server."
   ]
  },
  {
   "attachments": {},
   "cell_type": "markdown",
   "metadata": {},
   "source": [
    "To start we want to create a db object that contains all the clients found in the omi-db path. <br>\n",
    "The second step is to create a list of all the clients that are in the omi-db path. <br>"
   ]
  },
  {
   "cell_type": "code",
   "execution_count": 2,
   "metadata": {},
   "outputs": [
    {
     "data": {
      "text/plain": [
       "4"
      ]
     },
     "execution_count": 2,
     "metadata": {},
     "output_type": "execute_result"
    }
   ],
   "source": [
    "#define the path to the dataset\n",
    "reading_path = '/mnt/mia_images/breast/omi-db/image_db/sharing/omi-db/'\n",
    "# db = omidb.DB(reading_path, clients=['demd1', 'demd116'])\n",
    "db = omidb.DB(reading_path, clients=['demd100018', 'demd128247', 'demd843','demd94678'])\n",
    "#save clients in a list\n",
    "clients = [client for client in db]\n",
    "#The number of clients/petients\n",
    "len(clients)"
   ]
  },
  {
   "attachments": {},
   "cell_type": "markdown",
   "metadata": {},
   "source": [
    "## Structure of the OMI-DB dataset object"
   ]
  },
  {
   "attachments": {},
   "cell_type": "markdown",
   "metadata": {},
   "source": [
    "A <ins> **client** </ins>. represents a patient and can have one or more episodes. <br>\n",
    "    \n",
    "- The client object gives information about the client such as:\n",
    "    - The client id\n",
    "    - A list of episodes\n",
    "    - The site (hospital) name\n",
    "    - The client's status (benign, malignant, normal, interval cancer)\n",
    "\n",
    "Let's take a client exmaple and analyze it:"
   ]
  },
  {
   "cell_type": "code",
   "execution_count": 5,
   "metadata": {},
   "outputs": [
    {
     "name": "stdout",
     "output_type": "stream",
     "text": [
      "The client id is: demd780\n",
      "The client number of episodes is: 3\n",
      "The name of the site is: jarv\n",
      "The client status is: Malignant\n"
     ]
    }
   ],
   "source": [
    "client_num = 0\n",
    "#get a client\n",
    "client_ex = clients[client_num]\n",
    "print(f'The client id is: {client_ex.id}')\n",
    "print(f'The client number of episodes is: {len(client_ex.episodes)}')\n",
    "print(f'The name of the site is: {client_ex.site.value}')\n",
    "print(f'The client status is: {client_ex.status.value}')"
   ]
  },
  {
   "attachments": {},
   "cell_type": "markdown",
   "metadata": {},
   "source": [
    "The next interesting object is the episode <ins> **object** </ins>. <br>\n",
    "Episodes contain a set of medical procedures or events associated with the treatment or diagnosis. <br>\n",
    "- The episode object contains:\n",
    "    - The episode id (unique for within client)\n",
    "    - Events object: a set of medical procedures or events associated wiith the episode\n",
    "    - Studies list: studies are collections of screening and diagnostic images\n",
    "    "
   ]
  },
  {
   "cell_type": "code",
   "execution_count": 332,
   "metadata": {},
   "outputs": [
    {
     "name": "stdout",
     "output_type": "stream",
     "text": [
      "The episode id is: 9999\n",
      "The number of studies is: 2\n",
      "The episode type is: First Call\n",
      "The episode action is: Follow-up (Post-treatment)\n",
      "The episode opened date is: 2009-08-26\n",
      "The episode closed date is: 2010-04-29\n",
      "is the episode closed?: True\n",
      "No lesions\n",
      "The episode has benign opinions?: False\n",
      "The episode has malignant opinions?: True\n",
      "-----------------------------\n"
     ]
    }
   ],
   "source": [
    "episode_num = 0\n",
    "#Get the first episode of the client as example\n",
    "episode_ex = client_ex.episodes[episode_num]\n",
    "#get id of the episode\n",
    "print(f'The episode id is: {episode_ex.id}')\n",
    "print(f'The number of studies is: {len(episode_ex.studies)}') if episode_ex.studies else print('No studies')\n",
    "print(f'The episode type is: {episode_ex.type.value}')\n",
    "print(f'The episode action is: {episode_ex.action.value}')\n",
    "print(f'The episode opened date is: {episode_ex.opened_date}')\n",
    "print(f'The episode closed date is: {episode_ex.closed_date}')\n",
    "print(f'is the episode closed?: {episode_ex.is_closed}')\n",
    "print(f'number of lesions in the episode: {len(episode_ex.lesions)}') if episode_ex.lesions else print('No lesions')\n",
    "\n",
    "# Addiitioanl properties can be given back:\n",
    "print(f'The episode has benign opinions?: {episode_ex.has_benign_opinions}')\n",
    "print(f'The episode has malignant opinions?: {episode_ex.has_malignant_opinions}')\n",
    "#print seperator\n",
    "print('-----------------------------')\n",
    "# Get the events object, it shows all the events that happened in the episode\n",
    "events_ex = episode_ex.events\n",
    "# print(f'All the events in the episode: \\n{events_ex}')\n",
    "# print(events_ex)\n"
   ]
  },
  {
   "attachments": {},
   "cell_type": "markdown",
   "metadata": {},
   "source": [
    "The next structure could are <ins> **events** </ins> and <ins> **studies** </ins>. <br>\n",
    "Studies are imaging examinations made out of <ins>series</ins>. Each serie contains a set of <ins> **images** </ins>. <br>\n",
    "\n",
    "    Note that not all episodes may have studies!!\n",
    "This is important to consider, as we care about the episodes that have images (therefore, studies). <br>"
   ]
  },
  {
   "cell_type": "code",
   "execution_count": 333,
   "metadata": {},
   "outputs": [
    {
     "name": "stdout",
     "output_type": "stream",
     "text": [
      "The study id is: 1.2.826.0.1.3680043.9.3218.1.1.2807438.9038.1510340992050.2856.0\n",
      "The number of series is: 2\n",
      "The event type(s) is: [<Event.screening: 'screening'>]\n",
      "The study date is: 2009-10-14\n"
     ]
    }
   ],
   "source": [
    "# Get the first study of the episode as example\n",
    "study_num = 0\n",
    "if episode_ex.studies:\n",
    "    study_ex = episode_ex.studies[study_num]\n",
    "    print(f'The study id is: {study_ex.id}')\n",
    "    print(f'The number of series is: {len(study_ex.series)}')\n",
    "    print(f'The event type(s) is: {study_ex.event_type}')\n",
    "    print(f'The study date is: {study_ex.date}')\n",
    "\n",
    "else:\n",
    "    print('No studies')"
   ]
  },
  {
   "attachments": {},
   "cell_type": "markdown",
   "metadata": {},
   "source": [
    "Series are the next and final subsrtucture of the dataset. <br>\n",
    "It is a <ins> **collection of images** </ins> taken during one examination by one modality, for a given position of the patient in the acquisition device. <br>\n",
    "In full-field digital mammography, each image is usually associated with one series. <br>\n",
    "- The series object contains:\n",
    "    - The series id\n",
    "    - The list of images"
   ]
  },
  {
   "cell_type": "code",
   "execution_count": 341,
   "metadata": {},
   "outputs": [
    {
     "name": "stdout",
     "output_type": "stream",
     "text": [
      "The series id is: 1.2.826.0.1.3680043.9.3218.1.1.2807438.9038.1510340992050.2862.0\n",
      "The number of images is: 4\n",
      "The list of marks in the image is: [Mark(id='3156', lesion_id='1', boundingBox=BoundingBox(x1=1019, y1=1625, x2=1532, y2=1918), conspicuity=<Conspicuity.obvious: 'Obvious'>, architectural_distortion=None, dystrophic_calcification=None, fat_necrosis=None, focal_asymmetry=None, mass=None, suspicious_calcifications=True, milk_of_calcium=None, other_benign_cluster=None, plasma_cell_mastitis=None, benign_skin_feature=None, calcifications=None, suture_calcification=None, vascular_feature=None, benign_classification=None, mass_classification=None)]\n"
     ]
    },
    {
     "data": {
      "image/png": "[encoded data removed]",
      "text/plain": [
       "<Figure size 640x480 with 4 Axes>"
      ]
     },
     "metadata": {},
     "output_type": "display_data"
    }
   ],
   "source": [
    "# Get the first series of the study as example\n",
    "series_num = 1\n",
    "series_ex = study_ex.series[series_num]\n",
    "print(f'The series id is: {series_ex.id}')\n",
    "print(f'The number of images is: {series_ex.num_images}')\n",
    "#All images in the series can be plotted using\n",
    "series_ex.plot()\n",
    "print(f'The list of marks in the image is: {series_ex.images[0].marks}')"
   ]
  },
  {
   "attachments": {},
   "cell_type": "markdown",
   "metadata": {},
   "source": [
    "The images are the elemental elements of the dataset (from the point of view of our analysis). <br>\n",
    "Image objects contain all the relevant information about the image. <br>\n",
    "\n",
    "- The image object contains:\n",
    "    - The image id: unique for each image\n",
    "    - Dicom path\n",
    "    - JSON file path with the DICOM metadata\n",
    "    - A dictionary containing the DICOM metadata\n",
    "    - A parsed version of the DICOM file"
   ]
  },
  {
   "cell_type": "code",
   "execution_count": 339,
   "metadata": {},
   "outputs": [
    {
     "name": "stdout",
     "output_type": "stream",
     "text": [
      "The image id is: 1.2.826.0.1.3680043.9.3218.1.1.2807438.9038.1510340992050.2865.0\n",
      "The dicom path is: /mnt/mia_images/breast/omi-db/image_db/sharing/omi-db/images/demd268/1.2.826.0.1.3680043.9.3218.1.1.2807438.9038.1510340992050.2856.0/1.2.826.0.1.3680043.9.3218.1.1.2807438.9038.1510340992050.2865.0.dcm\n",
      "The JSON path is: /mnt/mia_images/breast/omi-db/image_db/sharing/omi-db/data/demd268/1.2.826.0.1.3680043.9.3218.1.1.2807438.9038.1510340992050.2856.0/1.2.826.0.1.3680043.9.3218.1.1.2807438.9038.1510340992050.2865.0.json\n",
      "The list of marks in the image is: [Mark(id='3156', lesion_id='1', boundingBox=BoundingBox(x1=1019, y1=1625, x2=1532, y2=1918), conspicuity=<Conspicuity.obvious: 'Obvious'>, architectural_distortion=None, dystrophic_calcification=None, fat_necrosis=None, focal_asymmetry=None, mass=None, suspicious_calcifications=True, milk_of_calcium=None, other_benign_cluster=None, plasma_cell_mastitis=None, benign_skin_feature=None, calcifications=None, suture_calcification=None, vascular_feature=None, benign_classification=None, mass_classification=None)]\n"
     ]
    }
   ],
   "source": [
    "image_num = 0 # usually there is just one image in the series\n",
    "# get the first image of the series as example\n",
    "image_ex = series_ex.images[image_num]\n",
    "\n",
    "print(f'The image id is: {image_ex.id}')\n",
    "print(f'The dicom path is: {image_ex.dcm_path}')\n",
    "print(f'The JSON path is: {image_ex.json_path}')\n",
    "print(f'The list of marks in the image is: {image_ex.marks}')"
   ]
  },
  {
   "attachments": {},
   "cell_type": "markdown",
   "metadata": {},
   "source": [
    "# Construction of the dataset"
   ]
  },
  {
   "attachments": {},
   "cell_type": "markdown",
   "metadata": {},
   "source": [
    "## Functions"
   ]
  },
  {
   "cell_type": "code",
   "execution_count": 20,
   "metadata": {},
   "outputs": [],
   "source": [
    "class stats:\n",
    "    \"\"\"Class for keeping track of the statistics of the dataset\n",
    "    \"\"\"\n",
    "    def __init__(self, N:int, B:int, M:int, IC:int):\n",
    "        \"\"\"Initialize the statistics object\n",
    "\n",
    "        Args:\n",
    "            N (int): Normal client status\n",
    "            B (int): Bening client status\n",
    "            M (int): Malignant client status\n",
    "            IC (int): Interval Cancer client status\n",
    "        \"\"\"\n",
    "        self.N = N\n",
    "        self.M = M\n",
    "        self.B = 0 # B is initialized to zero, since it is not used.\n",
    "        self.IC = IC\n",
    "        self.image_CC = 0\n",
    "        self.image_MLO = 0\n",
    "        self.image_R = 0\n",
    "        self.image_L = 0\n",
    "        self.subtype = np.zeros(8, dtype=np.int32)\n",
    "\n",
    "    def __repr__(self):\n",
    "        \"\"\"when printing the object, print the following:\n",
    "\n",
    "        Returns:\n",
    "            str: description of the statistics\n",
    "        \"\"\"\n",
    "        return \\\n",
    "            f'Stats [N: {self.N}, M {self.M}, B: {self.B}, IC {self.IC},'\\\n",
    "            f'CC: {self.image_CC}, MLO: {self.image_MLO}, '\\\n",
    "            f'R: {self.image_R}, L:{self.image_L}, ' \\\n",
    "            f'Subtype: {np.array2string(self.subtype)} ]'\n",
    "\n",
    "def update_stats_patient(overall:stats, client):\n",
    "\n",
    "    # Save the general pathological status of the patient:\n",
    "    #   M: malignant, N:Normal, CI: Interval Cancer\n",
    "    # In the API, the label is given in the following order of importance:\n",
    "    # CI > M > B > N\n",
    "    if client.status.value == 'Interval Cancer':\n",
    "        overall.IC += 1\n",
    "    elif client.status.value == 'Malignant':\n",
    "        overall.M += 1\n",
    "    elif client.status.value == 'Benign':\n",
    "        overall.B += 1\n",
    "    elif client.status.value == 'Normal':\n",
    "        overall.N += 1\n",
    "    return overall"
   ]
  },
  {
   "attachments": {},
   "cell_type": "markdown",
   "metadata": {},
   "source": [
    "## Implementation"
   ]
  },
  {
   "cell_type": "code",
   "execution_count": 34,
   "metadata": {},
   "outputs": [],
   "source": [
    "#define the path to the dataset\n",
    "reading_path = '/mnt/mia_images/breast/omi-db/image_db/sharing/omi-db/'\n",
    "db = omidb.DB(reading_path, clients=['demd100018', 'demd128247', 'demd843','demd94678'])\n",
    "# db = omidb.DB(reading_path)"
   ]
  },
  {
   "cell_type": "code",
   "execution_count": 40,
   "metadata": {},
   "outputs": [
    {
     "name": "stderr",
     "output_type": "stream",
     "text": [
      "100%|██████████| 4/4 [00:00<00:00, 17.57it/s]\n"
     ]
    }
   ],
   "source": [
    "overall = stats(0, 0, 0, 0)\n",
    "nbss_data = []\n",
    "for client in tqdm(db, total=len(db.clients)):\n",
    "    overall = update_stats_patient(overall, client)\n",
    "    nbss_data.append(db._nbss(client.id))"
   ]
  },
  {
   "cell_type": "code",
   "execution_count": 44,
   "metadata": {},
   "outputs": [
    {
     "data": {
      "text/plain": [
       "dict_keys(['9998', '9974', 'ClientID', '9982', '9978', '9999', 'Classification'])"
      ]
     },
     "execution_count": 44,
     "metadata": {},
     "output_type": "execute_result"
    }
   ],
   "source": [
    "nbss_data[0].keys()"
   ]
  }
 ],
 "metadata": {
  "kernelspec": {
   "display_name": "iceberg",
   "language": "python",
   "name": "python3"
  },
  "language_info": {
   "codemirror_mode": {
    "name": "ipython",
    "version": 3
   },
   "file_extension": ".py",
   "mimetype": "text/x-python",
   "name": "python",
   "nbconvert_exporter": "python",
   "pygments_lexer": "ipython3",
   "version": "3.10.9"
  },
  "orig_nbformat": 4,
  "vscode": {
   "interpreter": {
    "hash": "7d8fff16f0ae880f7d7f5f6eb65e66c2eee81b0b0ae3cdd5c9b5e3d0c2870ad8"
   }
  }
 },
 "nbformat": 4,
 "nbformat_minor": 2
}
