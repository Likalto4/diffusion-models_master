{
 "cells": [
  {
   "cell_type": "code",
   "execution_count": 1,
   "metadata": {},
   "outputs": [
    {
     "name": "stderr",
     "output_type": "stream",
     "text": [
      "/home/ricardo/miniconda3/envs/diffusion_class/lib/python3.8/site-packages/accelerate/accelerator.py:243: FutureWarning: `logging_dir` is deprecated and will be removed in version 0.18.0 of 🤗 Accelerate. Use `project_dir` instead.\n",
      "  warnings.warn(\n",
      "03/14/2023 19:15:37 - INFO - __main__ -   Distributed environment: NO\n",
      "Num processes: 1\n",
      "Process index: 0\n",
      "Local process index: 0\n",
      "Device: cuda\n",
      "\n",
      "Mixed precision type: no\n",
      "\n",
      "03/14/2023 19:15:37 - INFO - __main__ -   Dataset loaded with 4059 images\n"
     ]
    }
   ],
   "source": [
    "from pathlib import Path\n",
    "import os, sys\n",
    "repo_path= Path.cwd().resolve()\n",
    "while '.gitignore' not in os.listdir(repo_path): # while not in the root of the repo\n",
    "    repo_path = repo_path.parent #go up one level\n",
    "sys.path.insert(0,str(repo_path)) if str(repo_path) not in sys.path else None\n",
    "exp_path = Path.cwd().resolve() # path to the experiment folder\n",
    "\n",
    "#Libraries\n",
    "import yaml\n",
    "import math\n",
    "import numpy as np\n",
    "import torch\n",
    "import torch.nn.functional as F\n",
    "from tqdm import tqdm\n",
    "from torchvision.transforms import (\n",
    "    Compose,\n",
    "    Resize,\n",
    "    CenterCrop,\n",
    "    ToTensor,\n",
    "    Normalize,\n",
    "    InterpolationMode,\n",
    ")\n",
    "import wandb\n",
    "import datasets, diffusers\n",
    "from datasets_local.datasets import load_breast_dataset\n",
    "from diffusers import (\n",
    "    UNet2DModel,\n",
    "    DDPMScheduler,\n",
    ")\n",
    "\n",
    "from diffusers import DDPMPipeline\n",
    "from diffusers.optimization import get_scheduler\n",
    "from diffusers.utils import check_min_version\n",
    "import logging\n",
    "from accelerate.logging import get_logger\n",
    "from accelerate import Accelerator\n",
    "\n",
    "# Check the diffusers version\n",
    "check_min_version(\"0.15.0.dev0\")\n",
    "\n",
    "# set the logger\n",
    "logger = get_logger(__name__, log_level=\"INFO\") # allow from info level and above\n",
    "\n",
    "######MAIN######\n",
    "\n",
    "### 0. General setups\n",
    "# load the config file\n",
    "config_path = exp_path / 'config.yaml'\n",
    "with open('config.yaml') as file: # expects the config file to be in the same directory\n",
    "    config = yaml.load(file, Loader=yaml.FullLoader)\n",
    "\n",
    "# define logging directory\n",
    "pipeline_dir = repo_path / config['saving']['local']['outputs_dir'] / config['saving']['local']['pipeline_name']\n",
    "logging_dir = pipeline_dir / config['logging']['dir_name']\n",
    "\n",
    "# start the accelerator\n",
    "accelerator = Accelerator(\n",
    "    gradient_accumulation_steps=config['training']['gradient_accumulation']['steps'],\n",
    "    mixed_precision=config['training']['mixed_precision']['type'],\n",
    "    log_with= config['logging']['logger_name'],\n",
    "    logging_dir= logging_dir,\n",
    ")\n",
    "\n",
    "# define basic logging configuration\n",
    "logging.basicConfig(\n",
    "    format=\"%(asctime)s - %(levelname)s - %(name)s -   %(message)s\", # format of the log message. # name is the logger name.\n",
    "    datefmt=\"%m/%d/%Y %H:%M:%S\",\n",
    "    level=logging.INFO,\n",
    ")miau\n",
    "### 1. Dataset loading and preprocessing\n",
    "# Dataset loading\n",
    "data_dir = repo_path / config['processing']['dataset']\n",
    "dataset = load_breast_dataset(data_dir)\n",
    "logger.info(f\"Dataset loaded with {len(dataset)} images\") # show info about the dataset\n",
    "# Define data augmentations\n",
    "class ToFloat32Tensor(object):\n",
    "    \"\"\"\n",
    "    Converts a PIL Image to a PyTorch tensor with dtype float32, and normalises it.\n",
    "    \"\"\"\n",
    "    def __call__(self, image):\n",
    "        # Convert PIL Image to PyTorch tensor with dtype float32\n",
    "        tensor = ToTensor()(image).float()/config['processing']['normalisation_value']\n",
    "        return tensor\n",
    "\n",
    "preprocess = Compose(\n",
    "    [\n",
    "        Resize(config['processing']['resolution'], interpolation= InterpolationMode.BILINEAR), #getattr(InterpolationMode, config['processing']['interpolation'])),  # Smaller edge is resized to 256 preserving aspect ratio\n",
    "        CenterCrop(config['processing']['resolution']),  # Center crop to the desired squared resolution\n",
    "        #RandomHorizontalFlip(),  # Horizontal flip may not be a good idea if we want generation only one laterality\n",
    "        ToFloat32Tensor(),  # Convert to tensor (0, 1)\n",
    "        Normalize(mean=[0.5], std=[0.5]),  # Map to (-1, 1) as a way to make data more similar to a Gaussian distribution\n",
    "    ]\n",
    ")\n",
    "#set the transform function to the dataset\n",
    "dataset.set_transform(preprocess)\n",
    "# Create the dataloader\n",
    "train_dataloader = torch.utils.data.DataLoader(\n",
    "    dataset, batch_size=config['processing']['batch_size'], num_workers= config['processing']['num_workers'], shuffle=True\n",
    ")\n",
    "\n",
    "### 2. Model definition\n",
    "model = UNet2DModel(\n",
    "    sample_size=config['processing']['resolution'],  # the target image resolution\n",
    "    in_channels=config['model']['in_channels'],  # the number of input channels, 3 for RGB images\n",
    "    out_channels=config['model']['out_channels'],  # the number of output channels\n",
    "    layers_per_block=config['model']['layers_per_block'],  # how many ResNet layers to use per UNet block\n",
    "    block_out_channels=config['model']['block_out_channels'],  # More channels -> more parameters\n",
    "    down_block_types= config['model']['down_block_types'],\n",
    "    up_block_types=config['model']['up_block_types'],\n",
    ")\n",
    "\n",
    "### 3. Training\n",
    "num_epochs = config['training']['num_epochs']\n",
    "optimizer = torch.optim.AdamW(\n",
    "    model.parameters(),\n",
    "    lr= config['training']['optimizer']['learning_rate'], # learning rate of the optimizer\n",
    "    betas= (config['training']['optimizer']['beta_1'], config['training']['optimizer']['beta_2']), # betas according to the AdamW paper\n",
    "    weight_decay= config['training']['optimizer']['weight_decay'], # weight decay according to the AdamW paper\n",
    "    eps= config['training']['optimizer']['eps'] # epsilon according to the AdamW paper\n",
    ")\n",
    "lr_scheduler = get_scheduler(\n",
    "    name= config['training']['lr_scheduler']['name'], # name of the scheduler\n",
    "    optimizer= optimizer, # optimizer to use\n",
    "    num_warmup_steps= config['training']['lr_scheduler']['num_warmup_steps'] * config['training']['gradient_accumulation']['steps'],\n",
    "    num_training_steps= (len(train_dataloader) * num_epochs), #* config['training']['gradient_accumulation']['steps']?\n",
    ")\n",
    "noise_scheduler = DDPMScheduler(\n",
    "    num_train_timesteps=config['training']['noise_scheduler']['num_train_timesteps'],\n",
    "    beta_schedule=config['training']['noise_scheduler']['beta_schedule'],\n",
    ")\n",
    "\n",
    "# prepare with the accelerator\n",
    "model, optimizer, train_dataloader, lr_scheduler = accelerator.prepare(\n",
    "    model, optimizer, train_dataloader, lr_scheduler\n",
    ")"
   ]
  },
  {
   "cell_type": "code",
   "execution_count": null,
   "metadata": {},
   "outputs": [],
   "source": [
    "# init tracker (wand or TB)\n",
    "if accelerator.is_main_process:\n",
    "    run = os.path.split(__file__)[-1].split(\".\")[0] # get the name of the script\n",
    "    accelerator.init_trackers(project_name=run) # intialize a run for all trackers\n",
    "    accelerator.get_tracker('wandb').save(str(config_path)) if config['logging']['logger_name'] == 'wandb' else None # save the config file in the wandb run\n",
    "# global trackers"
   ]
  },
  {
   "cell_type": "code",
   "execution_count": 5,
   "metadata": {},
   "outputs": [
    {
     "name": "stderr",
     "output_type": "stream",
     "text": [
      "03/14/2023 19:16:51 - ERROR - wandb.jupyter -   Failed to detect the name of this notebook, you can set it manually with the WANDB_NOTEBOOK_NAME environment variable to enable code saving.\n",
      "\u001b[34m\u001b[1mwandb\u001b[0m: Currently logged in as: \u001b[33mricardo-montoya-da\u001b[0m. Use \u001b[1m`wandb login --relogin`\u001b[0m to force relogin\n"
     ]
    },
    {
     "data": {
      "text/html": [
       "Tracking run with wandb version 0.13.11"
      ],
      "text/plain": [
       "<IPython.core.display.HTML object>"
      ]
     },
     "metadata": {},
     "output_type": "display_data"
    },
    {
     "data": {
      "text/html": [
       "Run data is saved locally in <code>/home/ricardo/master_thesis/diffusion-models_master/experiments/unconditional_64/wandb/run-20230314_191653-0ic6jfgm</code>"
      ],
      "text/plain": [
       "<IPython.core.display.HTML object>"
      ]
     },
     "metadata": {},
     "output_type": "display_data"
    },
    {
     "data": {
      "text/html": [
       "Syncing run <strong><a href='https://wandb.ai/ricardo-montoya-da/miau/runs/0ic6jfgm' target=\"_blank\">hazelnut-bun-2</a></strong> to <a href='https://wandb.ai/ricardo-montoya-da/miau' target=\"_blank\">Weights & Biases</a> (<a href='https://wandb.me/run' target=\"_blank\">docs</a>)<br/>"
      ],
      "text/plain": [
       "<IPython.core.display.HTML object>"
      ]
     },
     "metadata": {},
     "output_type": "display_data"
    },
    {
     "data": {
      "text/html": [
       " View project at <a href='https://wandb.ai/ricardo-montoya-da/miau' target=\"_blank\">https://wandb.ai/ricardo-montoya-da/miau</a>"
      ],
      "text/plain": [
       "<IPython.core.display.HTML object>"
      ]
     },
     "metadata": {},
     "output_type": "display_data"
    },
    {
     "data": {
      "text/html": [
       " View run at <a href='https://wandb.ai/ricardo-montoya-da/miau/runs/0ic6jfgm' target=\"_blank\">https://wandb.ai/ricardo-montoya-da/miau/runs/0ic6jfgm</a>"
      ],
      "text/plain": [
       "<IPython.core.display.HTML object>"
      ]
     },
     "metadata": {},
     "output_type": "display_data"
    }
   ],
   "source": [
    "accelerator.init_trackers(project_name='miau')"
   ]
  },
  {
   "cell_type": "code",
   "execution_count": 8,
   "metadata": {},
   "outputs": [
    {
     "name": "stderr",
     "output_type": "stream",
     "text": [
      "\u001b[34m\u001b[1mwandb\u001b[0m: \u001b[33mWARNING\u001b[0m Saving files without folders. If you want to preserve sub directories pass base_path to wandb.save, i.e. wandb.save(\"/mnt/folder/file.h5\", base_path=\"/mnt\")\n"
     ]
    },
    {
     "data": {
      "text/plain": [
       "['/home/ricardo/master_thesis/diffusion-models_master/experiments/unconditional_64/wandb/run-20230314_191653-0ic6jfgm/files/config.yaml',\n",
       " '/home/ricardo/master_thesis/diffusion-models_master/experiments/unconditional_64/wandb/run-20230314_191653-0ic6jfgm/files/config.yaml']"
      ]
     },
     "execution_count": 8,
     "metadata": {},
     "output_type": "execute_result"
    }
   ],
   "source": [
    "wandb.save(str(config_path))"
   ]
  }
 ],
 "metadata": {
  "kernelspec": {
   "display_name": "diffusion_class",
   "language": "python",
   "name": "python3"
  },
  "language_info": {
   "codemirror_mode": {
    "name": "ipython",
    "version": 3
   },
   "file_extension": ".py",
   "mimetype": "text/x-python",
   "name": "python",
   "nbconvert_exporter": "python",
   "pygments_lexer": "ipython3",
   "version": "3.8.16"
  },
  "orig_nbformat": 4
 },
 "nbformat": 4,
 "nbformat_minor": 2
}
