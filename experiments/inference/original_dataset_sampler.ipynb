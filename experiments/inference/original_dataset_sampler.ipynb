{
 "cells": [
  {
   "cell_type": "code",
   "execution_count": 5,
   "metadata": {},
   "outputs": [],
   "source": [
    "#Add repo path to the system path\n",
    "from pathlib import Path\n",
    "import os, sys\n",
    "repo_path= Path.cwd().resolve()\n",
    "while '.gitignore' not in os.listdir(repo_path): # while not in the root of the repo\n",
    "    repo_path = repo_path.parent #go up one level\n",
    "sys.path.insert(0,str(repo_path)) if str(repo_path) not in sys.path else None\n",
    "\n",
    "from datasets_local.metadata import create_folder_csv\n",
    "import pandas as pd\n",
    "import numpy as np"
   ]
  },
  {
   "cell_type": "code",
   "execution_count": 24,
   "metadata": {},
   "outputs": [],
   "source": [
    "folder_name = 'breast40k_RGB'\n",
    "folder_path = repo_path / 'data/images' / folder_name\n",
    "new_folder_path = repo_path / 'experiments/inference/data/original' / f'{folder_name}-size'\n",
    "new_folder_path.mkdir(parents=False, exist_ok=True)\n",
    "\n",
    "# get json line file inside folder path\n",
    "json_file = [f for f in folder_path.glob('*.jsonl')][0]\n",
    "# read json line file\n",
    "df = pd.read_json(json_file, lines=True)\n",
    "\n",
    "# HP\n",
    "view = 'MLO'\n",
    "size = 'small'\n",
    "num_samples = 4\n",
    "\n",
    "# criteria prompt\n",
    "criteria_prompt = f'mammogram, {view} view, {size} size'\n",
    "# make criteria prompt qualified for file name\n",
    "criteria_prompt_save = criteria_prompt.replace(' ', '_')\n",
    "criteria_prompt_save = criteria_prompt_save.replace(',', '')\n",
    "\n",
    "# filter only if critaria prompt is included in the df prompt\n",
    "df_filtered = df[df['prompt'].str.contains(criteria_prompt)]\n",
    "# get random samples\n",
    "df_filtered = df_filtered.sample(num_samples)\n",
    "df_filtered.reset_index(inplace=True)\n",
    "for i, row in df_filtered.iterrows():\n",
    "    image_path = folder_path / row['file_name']\n",
    "    # copy file to new folder\n",
    "    new_image_path = new_folder_path / f'{criteria_prompt_save}_{i}.png'\n",
    "    os.system(f'cp {image_path} {new_image_path}')"
   ]
  }
 ],
 "metadata": {
  "kernelspec": {
   "display_name": "dreambooth_light",
   "language": "python",
   "name": "python3"
  },
  "language_info": {
   "codemirror_mode": {
    "name": "ipython",
    "version": 3
   },
   "file_extension": ".py",
   "mimetype": "text/x-python",
   "name": "python",
   "nbconvert_exporter": "python",
   "pygments_lexer": "ipython3",
   "version": "3.9.16"
  },
  "orig_nbformat": 4
 },
 "nbformat": 4,
 "nbformat_minor": 2
}
