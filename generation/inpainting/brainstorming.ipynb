{
 "cells": [
  {
   "cell_type": "code",
   "execution_count": 1,
   "metadata": {},
   "outputs": [],
   "source": [
    "#Add repo path to the system path\n",
    "from pathlib import Path\n",
    "import os, sys\n",
    "repo_path= Path.cwd().resolve()\n",
    "while '.gitignore' not in os.listdir(repo_path): # while not in the root of the repo\n",
    "    repo_path = repo_path.parent #go up one level\n",
    "sys.path.insert(0,str(repo_path)) if str(repo_path) not in sys.path else None\n",
    "exp_path = Path.cwd().resolve() # experiment path\n",
    "# visible GPUs\n",
    "os.environ[\"CUDA_DEVICE_ORDER\"]=\"PCI_BUS_ID\"\n",
    "os.environ[\"CUDA_VISIBLE_DEVICES\"]=\"0\""
   ]
  },
  {
   "cell_type": "code",
   "execution_count": 3,
   "metadata": {},
   "outputs": [],
   "source": [
    "import cv2 as cv\n",
    "import numpy as np\n",
    "import omidb"
   ]
  },
  {
   "attachments": {},
   "cell_type": "markdown",
   "metadata": {},
   "source": [
    "# Mask\n",
    "Let's try to make the mask of the breast first."
   ]
  },
  {
   "cell_type": "code",
   "execution_count": 4,
   "metadata": {},
   "outputs": [],
   "source": [
    "def get_normal_BBox(image):\n",
    "    img = cv.threshold(image, 0, 255, cv.THRESH_BINARY)[1]\n",
    "    #plot.imshow(img,'gray')\n",
    "    #plot.show() # display binary image\n",
    "    nb_components, output, stats, centroids = cv.connectedComponentsWithStats(img, connectivity=4)\n",
    "    sizes = stats[:, -1]\n",
    "    max_label = 1\n",
    "    max_size = sizes[1]\n",
    "    for i in range(2, nb_components):\n",
    "        if sizes[i] > max_size:\n",
    "            max_label = i\n",
    "            max_size = sizes[i]\n",
    "    img2 = np.zeros(output.shape,dtype=np.uint8)\n",
    "    img2[output == max_label] = 255\n",
    "    contours, hierarchy = cv.findContours(img2,cv.RETR_TREE,cv.CHAIN_APPROX_NONE)\n",
    "    cnt = contours[0]\n",
    "    aux_im = img2\n",
    "    x,y,w,h = cv.boundingRect(cnt)\n",
    "    cv.rectangle(aux_im,(x,y),(x+w,y+h),(255,0,0),5)\n",
    "    out_bbox = omidb.mark.BoundingBox(x, y, x+w, y+h)\n",
    "    \n",
    "    return out_bbox, img2 # returns bounding box and mask image."
   ]
  },
  {
   "cell_type": "code",
   "execution_count": null,
   "metadata": {},
   "outputs": [],
   "source": [
    "# we use the healthy images\n",
    "images_directory = repo_path "
   ]
  }
 ],
 "metadata": {
  "kernelspec": {
   "display_name": "dreambooth_light",
   "language": "python",
   "name": "python3"
  },
  "language_info": {
   "codemirror_mode": {
    "name": "ipython",
    "version": 3
   },
   "file_extension": ".py",
   "mimetype": "text/x-python",
   "name": "python",
   "nbconvert_exporter": "python",
   "pygments_lexer": "ipython3",
   "version": "3.10.9"
  },
  "orig_nbformat": 4
 },
 "nbformat": 4,
 "nbformat_minor": 2
}
