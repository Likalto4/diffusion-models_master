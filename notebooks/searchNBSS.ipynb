{
 "cells": [
  {
   "attachments": {},
   "cell_type": "markdown",
   "metadata": {},
   "source": [
    "# Libraries"
   ]
  },
  {
   "cell_type": "code",
   "execution_count": 2,
   "metadata": {},
   "outputs": [],
   "source": [
    "import omidb\n",
    "from pathlib import Path"
   ]
  },
  {
   "cell_type": "code",
   "execution_count": 3,
   "metadata": {},
   "outputs": [
    {
     "name": "stdout",
     "output_type": "stream",
     "text": [
      "/home/ricardo/master_thesis/diffusion-models_master\n"
     ]
    }
   ],
   "source": [
    "repo_path = Path().cwd().parent\n",
    "print(repo_path)"
   ]
  },
  {
   "attachments": {},
   "cell_type": "markdown",
   "metadata": {},
   "source": [
    "# MAIN"
   ]
  },
  {
   "cell_type": "code",
   "execution_count": 18,
   "metadata": {},
   "outputs": [
    {
     "ename": "FileNotFoundError",
     "evalue": "Failed to parse the given directory. Does /home/ricardino/Documents/MAIA/quart_semestre/thesis/diffusion-models_master/omi-db contain the omidb 'data' directory?",
     "output_type": "error",
     "traceback": [
      "\u001b[0;31m---------------------------------------------------------------------------\u001b[0m",
      "\u001b[0;31mFileNotFoundError\u001b[0m                         Traceback (most recent call last)",
      "Cell \u001b[0;32mIn [18], line 3\u001b[0m\n\u001b[1;32m      1\u001b[0m \u001b[39m#define the path to the dataset\u001b[39;00m\n\u001b[1;32m      2\u001b[0m reading_path \u001b[39m=\u001b[39m repo_path \u001b[39m/\u001b[39m \u001b[39m'\u001b[39m\u001b[39momi-db\u001b[39m\u001b[39m'\u001b[39m\n\u001b[0;32m----> 3\u001b[0m db \u001b[39m=\u001b[39m omidb\u001b[39m.\u001b[39;49mDB(reading_path)\n",
      "File \u001b[0;32m~/.local/lib/python3.10/site-packages/omidb/parser.py:79\u001b[0m, in \u001b[0;36mDB.__init__\u001b[0;34m(self, root_dir, ignore_missing_images, clients, exclude_clients, distinct_event_study_links)\u001b[0m\n\u001b[1;32m     76\u001b[0m         \u001b[39mself\u001b[39m\u001b[39m.\u001b[39m_image_dir \u001b[39m=\u001b[39m sub_dir\n\u001b[1;32m     78\u001b[0m \u001b[39mif\u001b[39;00m \u001b[39mnot\u001b[39;00m data_found:\n\u001b[0;32m---> 79\u001b[0m     \u001b[39mraise\u001b[39;00m \u001b[39mFileNotFoundError\u001b[39;00m(\n\u001b[1;32m     80\u001b[0m         \u001b[39mf\u001b[39m\u001b[39m\"\u001b[39m\u001b[39mFailed to parse the given directory. Does \u001b[39m\u001b[39m{\u001b[39;00mroot_dir\u001b[39m}\u001b[39;00m\u001b[39m contain \u001b[39m\u001b[39m\"\u001b[39m\n\u001b[1;32m     81\u001b[0m         \u001b[39m\"\u001b[39m\u001b[39mthe omidb \u001b[39m\u001b[39m'\u001b[39m\u001b[39mdata\u001b[39m\u001b[39m'\u001b[39m\u001b[39m directory?\u001b[39m\u001b[39m\"\u001b[39m\n\u001b[1;32m     82\u001b[0m     )\n\u001b[1;32m     84\u001b[0m \u001b[39mif\u001b[39;00m \u001b[39mnot\u001b[39;00m clients:\n\u001b[1;32m     86\u001b[0m     clients \u001b[39m=\u001b[39m []\n",
      "\u001b[0;31mFileNotFoundError\u001b[0m: Failed to parse the given directory. Does /home/ricardino/Documents/MAIA/quart_semestre/thesis/diffusion-models_master/omi-db contain the omidb 'data' directory?"
     ]
    }
   ],
   "source": [
    "#define the path to the dataset\n",
    "reading_path = repo_path / 'omi-db'\n",
    "db = omidb.DB(reading_path)"
   ]
  },
  {
   "cell_type": "code",
   "execution_count": 15,
   "metadata": {},
   "outputs": [
    {
     "data": {
      "text/plain": [
       "[]"
      ]
     },
     "execution_count": 15,
     "metadata": {},
     "output_type": "execute_result"
    }
   ],
   "source": [
    "clients = [client for client in db]\n",
    "[print(client.id) for client in clients]"
   ]
  }
 ],
 "metadata": {
  "kernelspec": {
   "display_name": "diffusion_class",
   "language": "python",
   "name": "python3"
  },
  "language_info": {
   "codemirror_mode": {
    "name": "ipython",
    "version": 3
   },
   "file_extension": ".py",
   "mimetype": "text/x-python",
   "name": "python",
   "nbconvert_exporter": "python",
   "pygments_lexer": "ipython3",
   "version": "3.8.16"
  },
  "orig_nbformat": 4,
  "vscode": {
   "interpreter": {
    "hash": "8796c478b45d691a24d00c4070bda0d9dbd0f765575c551e08086ba60418d850"
   }
  }
 },
 "nbformat": 4,
 "nbformat_minor": 2
}
